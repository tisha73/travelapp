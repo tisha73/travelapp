{
 "cells": [
  {
   "cell_type": "code",
   "execution_count": 11,
   "id": "a3d82350-5b04-412c-9a10-601b9b218714",
   "metadata": {},
   "outputs": [
    {
     "name": "stdout",
     "output_type": "stream",
     "text": [
      "Collecting faker\n",
      "  Using cached faker-37.1.0-py3-none-any.whl.metadata (15 kB)\n",
      "Requirement already satisfied: tzdata in c:\\users\\tisha\\anaconda3\\lib\\site-packages (from faker) (2023.3)\n",
      "Using cached faker-37.1.0-py3-none-any.whl (1.9 MB)\n",
      "Installing collected packages: faker\n",
      "Successfully installed faker-37.1.0\n"
     ]
    }
   ],
   "source": [
    "!pip install faker"
   ]
  },
  {
   "cell_type": "code",
   "execution_count": 13,
   "id": "20311cf2-958a-4244-b587-14f630745d11",
   "metadata": {},
   "outputs": [],
   "source": [
    "from faker import Faker\n",
    "import random\n",
    "import pandas as pd\n",
    "\n",
    "faker = Faker()\n",
    "\n",
    "# Simulate 5000 rental transactions\n",
    "data = []\n",
    "for _ in range(5000):\n",
    "    fraud = random.choices([0, 1], weights=[0.95, 0.05])[0]  # 5% fraud cases\n",
    "    transaction = {\n",
    "        \"user_id\": faker.uuid4(),\n",
    "        \"account_age\": random.randint(0, 1000),\n",
    "        \"rental_duration\": random.randint(1, 30),\n",
    "        \"total_amount\": random.randint(20, 1000),\n",
    "        \"failed_payment_attempts\": random.randint(0, 5) if fraud else 0,\n",
    "        \"vpn_detected\": random.choice([0, 1]) if fraud else 0,\n",
    "        \"multiple_accounts\": random.choice([0, 1]) if fraud else 0,\n",
    "        \"fraud_label\": fraud\n",
    "    }\n",
    "    data.append(transaction)\n",
    "\n",
    "df = pd.DataFrame(data)\n",
    "df.to_csv(\"synthetic_rental_fraud.csv\", index=False)\n"
   ]
  },
  {
   "cell_type": "code",
   "execution_count": null,
   "id": "36582f6a-d713-49d0-bd45-4cd85a0997d3",
   "metadata": {},
   "outputs": [],
   "source": []
  }
 ],
 "metadata": {
  "kernelspec": {
   "display_name": "Python [conda env:base] *",
   "language": "python",
   "name": "conda-base-py"
  },
  "language_info": {
   "codemirror_mode": {
    "name": "ipython",
    "version": 3
   },
   "file_extension": ".py",
   "mimetype": "text/x-python",
   "name": "python",
   "nbconvert_exporter": "python",
   "pygments_lexer": "ipython3",
   "version": "3.12.7"
  }
 },
 "nbformat": 4,
 "nbformat_minor": 5
}
